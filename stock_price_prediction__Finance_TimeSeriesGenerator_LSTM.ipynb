{
  "nbformat": 4,
  "nbformat_minor": 0,
  "metadata": {
    "colab": {
      "provenance": []
    },
    "kernelspec": {
      "name": "python3",
      "display_name": "Python 3"
    },
    "language_info": {
      "name": "python"
    }
  },
  "cells": [
    {
      "cell_type": "markdown",
      "source": [
        "# **AIM: Implementing Time Series Stock Price Prediction with LSTM and yfinance in Python**"
      ],
      "metadata": {
        "id": "ByNLE4GxutZW"
      }
    },
    {
      "cell_type": "code",
      "execution_count": null,
      "metadata": {
        "id": "jeoKrPDz-pGg"
      },
      "outputs": [],
      "source": [
        "import yfinance as yf  #This library is used to download historical stock data from Yahoo Finance.\n",
        "import numpy as np\n",
        "import pandas as pd\n",
        "from sklearn.preprocessing import MinMaxScaler\n",
        "from tensorflow.keras.models import Sequential\n",
        "from tensorflow.keras.layers import Dense,LSTM,Flatten"
      ]
    },
    {
      "cell_type": "markdown",
      "source": [
        "stock: Specifies the stock symbol for which historical data is to be downloaded (in this case, 'AAPL' for Apple).\n",
        "\n",
        "start_date and end_date: Define the date range for which historical stock data is to be retrieved.\n",
        "\n",
        "yf.download(): Fetches historical stock data using Yahoo Finance API."
      ],
      "metadata": {
        "id": "VJkuaKzaucgq"
      }
    },
    {
      "cell_type": "code",
      "source": [
        "stock = 'AAPL'\n",
        "start_date = '2019-04-11'\n",
        "end_date = '2024-04-11'\n",
        "\n",
        "data = yf.download(stock,start = start_date,end = end_date)\n",
        "df = pd.DataFrame(data)"
      ],
      "metadata": {
        "colab": {
          "base_uri": "https://localhost:8080/"
        },
        "id": "HQmHEJwbACgv",
        "outputId": "d59bcaad-737d-4462-8a1a-f8868ecee0d0"
      },
      "execution_count": null,
      "outputs": [
        {
          "output_type": "stream",
          "name": "stderr",
          "text": [
            "\r[*********************100%%**********************]  1 of 1 completed\n"
          ]
        }
      ]
    },
    {
      "cell_type": "code",
      "source": [
        "df.head()"
      ],
      "metadata": {
        "colab": {
          "base_uri": "https://localhost:8080/",
          "height": 238
        },
        "id": "p1x_h1BGGBiY",
        "outputId": "502e2af5-a3ba-4683-e1b2-61726e5ae13f"
      },
      "execution_count": null,
      "outputs": [
        {
          "output_type": "execute_result",
          "data": {
            "text/plain": [
              "                 Open       High        Low      Close  Adj Close     Volume\n",
              "Date                                                                        \n",
              "2019-04-11  50.212502  50.250000  49.610001  49.737499  47.882244   83603200\n",
              "2019-04-12  49.799999  50.035000  49.052502  49.717499  47.862988  111042800\n",
              "2019-04-15  49.645000  49.962502  49.502499  49.807499  47.949627   70146400\n",
              "2019-04-16  49.865002  50.342499  49.639999  49.812500  47.954437  102785600\n",
              "2019-04-17  49.884998  50.845001  49.652500  50.782501  48.888248  115627200"
            ],
            "text/html": [
              "\n",
              "  <div id=\"df-354583bb-9444-458c-8c5d-65bcf81785f3\" class=\"colab-df-container\">\n",
              "    <div>\n",
              "<style scoped>\n",
              "    .dataframe tbody tr th:only-of-type {\n",
              "        vertical-align: middle;\n",
              "    }\n",
              "\n",
              "    .dataframe tbody tr th {\n",
              "        vertical-align: top;\n",
              "    }\n",
              "\n",
              "    .dataframe thead th {\n",
              "        text-align: right;\n",
              "    }\n",
              "</style>\n",
              "<table border=\"1\" class=\"dataframe\">\n",
              "  <thead>\n",
              "    <tr style=\"text-align: right;\">\n",
              "      <th></th>\n",
              "      <th>Open</th>\n",
              "      <th>High</th>\n",
              "      <th>Low</th>\n",
              "      <th>Close</th>\n",
              "      <th>Adj Close</th>\n",
              "      <th>Volume</th>\n",
              "    </tr>\n",
              "    <tr>\n",
              "      <th>Date</th>\n",
              "      <th></th>\n",
              "      <th></th>\n",
              "      <th></th>\n",
              "      <th></th>\n",
              "      <th></th>\n",
              "      <th></th>\n",
              "    </tr>\n",
              "  </thead>\n",
              "  <tbody>\n",
              "    <tr>\n",
              "      <th>2019-04-11</th>\n",
              "      <td>50.212502</td>\n",
              "      <td>50.250000</td>\n",
              "      <td>49.610001</td>\n",
              "      <td>49.737499</td>\n",
              "      <td>47.882244</td>\n",
              "      <td>83603200</td>\n",
              "    </tr>\n",
              "    <tr>\n",
              "      <th>2019-04-12</th>\n",
              "      <td>49.799999</td>\n",
              "      <td>50.035000</td>\n",
              "      <td>49.052502</td>\n",
              "      <td>49.717499</td>\n",
              "      <td>47.862988</td>\n",
              "      <td>111042800</td>\n",
              "    </tr>\n",
              "    <tr>\n",
              "      <th>2019-04-15</th>\n",
              "      <td>49.645000</td>\n",
              "      <td>49.962502</td>\n",
              "      <td>49.502499</td>\n",
              "      <td>49.807499</td>\n",
              "      <td>47.949627</td>\n",
              "      <td>70146400</td>\n",
              "    </tr>\n",
              "    <tr>\n",
              "      <th>2019-04-16</th>\n",
              "      <td>49.865002</td>\n",
              "      <td>50.342499</td>\n",
              "      <td>49.639999</td>\n",
              "      <td>49.812500</td>\n",
              "      <td>47.954437</td>\n",
              "      <td>102785600</td>\n",
              "    </tr>\n",
              "    <tr>\n",
              "      <th>2019-04-17</th>\n",
              "      <td>49.884998</td>\n",
              "      <td>50.845001</td>\n",
              "      <td>49.652500</td>\n",
              "      <td>50.782501</td>\n",
              "      <td>48.888248</td>\n",
              "      <td>115627200</td>\n",
              "    </tr>\n",
              "  </tbody>\n",
              "</table>\n",
              "</div>\n",
              "    <div class=\"colab-df-buttons\">\n",
              "\n",
              "  <div class=\"colab-df-container\">\n",
              "    <button class=\"colab-df-convert\" onclick=\"convertToInteractive('df-354583bb-9444-458c-8c5d-65bcf81785f3')\"\n",
              "            title=\"Convert this dataframe to an interactive table.\"\n",
              "            style=\"display:none;\">\n",
              "\n",
              "  <svg xmlns=\"http://www.w3.org/2000/svg\" height=\"24px\" viewBox=\"0 -960 960 960\">\n",
              "    <path d=\"M120-120v-720h720v720H120Zm60-500h600v-160H180v160Zm220 220h160v-160H400v160Zm0 220h160v-160H400v160ZM180-400h160v-160H180v160Zm440 0h160v-160H620v160ZM180-180h160v-160H180v160Zm440 0h160v-160H620v160Z\"/>\n",
              "  </svg>\n",
              "    </button>\n",
              "\n",
              "  <style>\n",
              "    .colab-df-container {\n",
              "      display:flex;\n",
              "      gap: 12px;\n",
              "    }\n",
              "\n",
              "    .colab-df-convert {\n",
              "      background-color: #E8F0FE;\n",
              "      border: none;\n",
              "      border-radius: 50%;\n",
              "      cursor: pointer;\n",
              "      display: none;\n",
              "      fill: #1967D2;\n",
              "      height: 32px;\n",
              "      padding: 0 0 0 0;\n",
              "      width: 32px;\n",
              "    }\n",
              "\n",
              "    .colab-df-convert:hover {\n",
              "      background-color: #E2EBFA;\n",
              "      box-shadow: 0px 1px 2px rgba(60, 64, 67, 0.3), 0px 1px 3px 1px rgba(60, 64, 67, 0.15);\n",
              "      fill: #174EA6;\n",
              "    }\n",
              "\n",
              "    .colab-df-buttons div {\n",
              "      margin-bottom: 4px;\n",
              "    }\n",
              "\n",
              "    [theme=dark] .colab-df-convert {\n",
              "      background-color: #3B4455;\n",
              "      fill: #D2E3FC;\n",
              "    }\n",
              "\n",
              "    [theme=dark] .colab-df-convert:hover {\n",
              "      background-color: #434B5C;\n",
              "      box-shadow: 0px 1px 3px 1px rgba(0, 0, 0, 0.15);\n",
              "      filter: drop-shadow(0px 1px 2px rgba(0, 0, 0, 0.3));\n",
              "      fill: #FFFFFF;\n",
              "    }\n",
              "  </style>\n",
              "\n",
              "    <script>\n",
              "      const buttonEl =\n",
              "        document.querySelector('#df-354583bb-9444-458c-8c5d-65bcf81785f3 button.colab-df-convert');\n",
              "      buttonEl.style.display =\n",
              "        google.colab.kernel.accessAllowed ? 'block' : 'none';\n",
              "\n",
              "      async function convertToInteractive(key) {\n",
              "        const element = document.querySelector('#df-354583bb-9444-458c-8c5d-65bcf81785f3');\n",
              "        const dataTable =\n",
              "          await google.colab.kernel.invokeFunction('convertToInteractive',\n",
              "                                                    [key], {});\n",
              "        if (!dataTable) return;\n",
              "\n",
              "        const docLinkHtml = 'Like what you see? Visit the ' +\n",
              "          '<a target=\"_blank\" href=https://colab.research.google.com/notebooks/data_table.ipynb>data table notebook</a>'\n",
              "          + ' to learn more about interactive tables.';\n",
              "        element.innerHTML = '';\n",
              "        dataTable['output_type'] = 'display_data';\n",
              "        await google.colab.output.renderOutput(dataTable, element);\n",
              "        const docLink = document.createElement('div');\n",
              "        docLink.innerHTML = docLinkHtml;\n",
              "        element.appendChild(docLink);\n",
              "      }\n",
              "    </script>\n",
              "  </div>\n",
              "\n",
              "\n",
              "<div id=\"df-a7b39224-a9f0-49df-8947-de7cd2ca31d3\">\n",
              "  <button class=\"colab-df-quickchart\" onclick=\"quickchart('df-a7b39224-a9f0-49df-8947-de7cd2ca31d3')\"\n",
              "            title=\"Suggest charts\"\n",
              "            style=\"display:none;\">\n",
              "\n",
              "<svg xmlns=\"http://www.w3.org/2000/svg\" height=\"24px\"viewBox=\"0 0 24 24\"\n",
              "     width=\"24px\">\n",
              "    <g>\n",
              "        <path d=\"M19 3H5c-1.1 0-2 .9-2 2v14c0 1.1.9 2 2 2h14c1.1 0 2-.9 2-2V5c0-1.1-.9-2-2-2zM9 17H7v-7h2v7zm4 0h-2V7h2v10zm4 0h-2v-4h2v4z\"/>\n",
              "    </g>\n",
              "</svg>\n",
              "  </button>\n",
              "\n",
              "<style>\n",
              "  .colab-df-quickchart {\n",
              "      --bg-color: #E8F0FE;\n",
              "      --fill-color: #1967D2;\n",
              "      --hover-bg-color: #E2EBFA;\n",
              "      --hover-fill-color: #174EA6;\n",
              "      --disabled-fill-color: #AAA;\n",
              "      --disabled-bg-color: #DDD;\n",
              "  }\n",
              "\n",
              "  [theme=dark] .colab-df-quickchart {\n",
              "      --bg-color: #3B4455;\n",
              "      --fill-color: #D2E3FC;\n",
              "      --hover-bg-color: #434B5C;\n",
              "      --hover-fill-color: #FFFFFF;\n",
              "      --disabled-bg-color: #3B4455;\n",
              "      --disabled-fill-color: #666;\n",
              "  }\n",
              "\n",
              "  .colab-df-quickchart {\n",
              "    background-color: var(--bg-color);\n",
              "    border: none;\n",
              "    border-radius: 50%;\n",
              "    cursor: pointer;\n",
              "    display: none;\n",
              "    fill: var(--fill-color);\n",
              "    height: 32px;\n",
              "    padding: 0;\n",
              "    width: 32px;\n",
              "  }\n",
              "\n",
              "  .colab-df-quickchart:hover {\n",
              "    background-color: var(--hover-bg-color);\n",
              "    box-shadow: 0 1px 2px rgba(60, 64, 67, 0.3), 0 1px 3px 1px rgba(60, 64, 67, 0.15);\n",
              "    fill: var(--button-hover-fill-color);\n",
              "  }\n",
              "\n",
              "  .colab-df-quickchart-complete:disabled,\n",
              "  .colab-df-quickchart-complete:disabled:hover {\n",
              "    background-color: var(--disabled-bg-color);\n",
              "    fill: var(--disabled-fill-color);\n",
              "    box-shadow: none;\n",
              "  }\n",
              "\n",
              "  .colab-df-spinner {\n",
              "    border: 2px solid var(--fill-color);\n",
              "    border-color: transparent;\n",
              "    border-bottom-color: var(--fill-color);\n",
              "    animation:\n",
              "      spin 1s steps(1) infinite;\n",
              "  }\n",
              "\n",
              "  @keyframes spin {\n",
              "    0% {\n",
              "      border-color: transparent;\n",
              "      border-bottom-color: var(--fill-color);\n",
              "      border-left-color: var(--fill-color);\n",
              "    }\n",
              "    20% {\n",
              "      border-color: transparent;\n",
              "      border-left-color: var(--fill-color);\n",
              "      border-top-color: var(--fill-color);\n",
              "    }\n",
              "    30% {\n",
              "      border-color: transparent;\n",
              "      border-left-color: var(--fill-color);\n",
              "      border-top-color: var(--fill-color);\n",
              "      border-right-color: var(--fill-color);\n",
              "    }\n",
              "    40% {\n",
              "      border-color: transparent;\n",
              "      border-right-color: var(--fill-color);\n",
              "      border-top-color: var(--fill-color);\n",
              "    }\n",
              "    60% {\n",
              "      border-color: transparent;\n",
              "      border-right-color: var(--fill-color);\n",
              "    }\n",
              "    80% {\n",
              "      border-color: transparent;\n",
              "      border-right-color: var(--fill-color);\n",
              "      border-bottom-color: var(--fill-color);\n",
              "    }\n",
              "    90% {\n",
              "      border-color: transparent;\n",
              "      border-bottom-color: var(--fill-color);\n",
              "    }\n",
              "  }\n",
              "</style>\n",
              "\n",
              "  <script>\n",
              "    async function quickchart(key) {\n",
              "      const quickchartButtonEl =\n",
              "        document.querySelector('#' + key + ' button');\n",
              "      quickchartButtonEl.disabled = true;  // To prevent multiple clicks.\n",
              "      quickchartButtonEl.classList.add('colab-df-spinner');\n",
              "      try {\n",
              "        const charts = await google.colab.kernel.invokeFunction(\n",
              "            'suggestCharts', [key], {});\n",
              "      } catch (error) {\n",
              "        console.error('Error during call to suggestCharts:', error);\n",
              "      }\n",
              "      quickchartButtonEl.classList.remove('colab-df-spinner');\n",
              "      quickchartButtonEl.classList.add('colab-df-quickchart-complete');\n",
              "    }\n",
              "    (() => {\n",
              "      let quickchartButtonEl =\n",
              "        document.querySelector('#df-a7b39224-a9f0-49df-8947-de7cd2ca31d3 button');\n",
              "      quickchartButtonEl.style.display =\n",
              "        google.colab.kernel.accessAllowed ? 'block' : 'none';\n",
              "    })();\n",
              "  </script>\n",
              "</div>\n",
              "    </div>\n",
              "  </div>\n"
            ],
            "application/vnd.google.colaboratory.intrinsic+json": {
              "type": "dataframe",
              "variable_name": "df",
              "summary": "{\n  \"name\": \"df\",\n  \"rows\": 1258,\n  \"fields\": [\n    {\n      \"column\": \"Date\",\n      \"properties\": {\n        \"dtype\": \"date\",\n        \"min\": \"2019-04-11 00:00:00\",\n        \"max\": \"2024-04-10 00:00:00\",\n        \"num_unique_values\": 1258,\n        \"samples\": [\n          \"2021-07-02 00:00:00\",\n          \"2019-09-05 00:00:00\",\n          \"2019-06-25 00:00:00\"\n        ],\n        \"semantic_type\": \"\",\n        \"description\": \"\"\n      }\n    },\n    {\n      \"column\": \"Open\",\n      \"properties\": {\n        \"dtype\": \"number\",\n        \"std\": 44.05499968929462,\n        \"min\": 43.86000061035156,\n        \"max\": 198.02000427246094,\n        \"num_unique_values\": 1196,\n        \"samples\": [\n          148.9600067138672,\n          60.70000076293945,\n          187.92999267578125\n        ],\n        \"semantic_type\": \"\",\n        \"description\": \"\"\n      }\n    },\n    {\n      \"column\": \"High\",\n      \"properties\": {\n        \"dtype\": \"number\",\n        \"std\": 44.39321012972707,\n        \"min\": 44.47999954223633,\n        \"max\": 199.6199951171875,\n        \"num_unique_values\": 1199,\n        \"samples\": [\n          170.72999572753906,\n          152.49000549316406,\n          53.49250030517578\n        ],\n        \"semantic_type\": \"\",\n        \"description\": \"\"\n      }\n    },\n    {\n      \"column\": \"Low\",\n      \"properties\": {\n        \"dtype\": \"number\",\n        \"std\": 43.70128308493459,\n        \"min\": 42.567501068115234,\n        \"max\": 197.0,\n        \"num_unique_values\": 1209,\n        \"samples\": [\n          52.76750183105469,\n          127.86000061035156,\n          93.05750274658203\n        ],\n        \"semantic_type\": \"\",\n        \"description\": \"\"\n      }\n    },\n    {\n      \"column\": \"Close\",\n      \"properties\": {\n        \"dtype\": \"number\",\n        \"std\": 44.06188824371035,\n        \"min\": 43.32500076293945,\n        \"max\": 198.11000061035156,\n        \"num_unique_values\": 1202,\n        \"samples\": [\n          193.60000610351562,\n          131.8800048828125,\n          51.005001068115234\n        ],\n        \"semantic_type\": \"\",\n        \"description\": \"\"\n      }\n    },\n    {\n      \"column\": \"Adj Close\",\n      \"properties\": {\n        \"dtype\": \"number\",\n        \"std\": 44.39486450627535,\n        \"min\": 41.86954116821289,\n        \"max\": 197.85752868652344,\n        \"num_unique_values\": 1246,\n        \"samples\": [\n          166.91256713867188,\n          126.51141357421875,\n          173.2104949951172\n        ],\n        \"semantic_type\": \"\",\n        \"description\": \"\"\n      }\n    },\n    {\n      \"column\": \"Volume\",\n      \"properties\": {\n        \"dtype\": \"number\",\n        \"std\": 52070251,\n        \"min\": 24048300,\n        \"max\": 426510000,\n        \"num_unique_values\": 1255,\n        \"samples\": [\n          47317400,\n          77449200,\n          104270000\n        ],\n        \"semantic_type\": \"\",\n        \"description\": \"\"\n      }\n    }\n  ]\n}"
            }
          },
          "metadata": {},
          "execution_count": 3
        }
      ]
    },
    {
      "cell_type": "code",
      "source": [
        "df.shape"
      ],
      "metadata": {
        "colab": {
          "base_uri": "https://localhost:8080/"
        },
        "id": "oK8szb3WvJJn",
        "outputId": "5bc1cd87-b2bc-4d31-c433-04cfb3206855"
      },
      "execution_count": null,
      "outputs": [
        {
          "output_type": "execute_result",
          "data": {
            "text/plain": [
              "(1258, 6)"
            ]
          },
          "metadata": {},
          "execution_count": 4
        }
      ]
    },
    {
      "cell_type": "code",
      "source": [
        "df.info()"
      ],
      "metadata": {
        "colab": {
          "base_uri": "https://localhost:8080/"
        },
        "id": "dINfFWk7i09x",
        "outputId": "1a5e36ce-ff50-4bb6-909f-55a8ea65946d"
      },
      "execution_count": null,
      "outputs": [
        {
          "output_type": "stream",
          "name": "stdout",
          "text": [
            "<class 'pandas.core.frame.DataFrame'>\n",
            "DatetimeIndex: 1258 entries, 2019-04-11 to 2024-04-10\n",
            "Data columns (total 6 columns):\n",
            " #   Column     Non-Null Count  Dtype  \n",
            "---  ------     --------------  -----  \n",
            " 0   Open       1258 non-null   float64\n",
            " 1   High       1258 non-null   float64\n",
            " 2   Low        1258 non-null   float64\n",
            " 3   Close      1258 non-null   float64\n",
            " 4   Adj Close  1258 non-null   float64\n",
            " 5   Volume     1258 non-null   int64  \n",
            "dtypes: float64(5), int64(1)\n",
            "memory usage: 68.8 KB\n"
          ]
        }
      ]
    },
    {
      "cell_type": "code",
      "source": [
        "closed_price = df[['Close']]\n",
        "print(closed_price)"
      ],
      "metadata": {
        "colab": {
          "base_uri": "https://localhost:8080/"
        },
        "id": "mMz5DXDQAx9b",
        "outputId": "3638b812-2b15-4161-b866-e88258275843"
      },
      "execution_count": null,
      "outputs": [
        {
          "output_type": "stream",
          "name": "stdout",
          "text": [
            "                 Close\n",
            "Date                  \n",
            "2019-04-11   49.737499\n",
            "2019-04-12   49.717499\n",
            "2019-04-15   49.807499\n",
            "2019-04-16   49.812500\n",
            "2019-04-17   50.782501\n",
            "...                ...\n",
            "2024-04-04  168.820007\n",
            "2024-04-05  169.580002\n",
            "2024-04-08  168.449997\n",
            "2024-04-09  169.669998\n",
            "2024-04-10  167.779999\n",
            "\n",
            "[1258 rows x 1 columns]\n"
          ]
        }
      ]
    },
    {
      "cell_type": "code",
      "source": [
        "scaler = MinMaxScaler()\n",
        "train = closed_price.iloc[:400]\n",
        "test = closed_price.iloc[400:501]\n"
      ],
      "metadata": {
        "id": "5c1aJTmJCPBR"
      },
      "execution_count": null,
      "outputs": []
    },
    {
      "cell_type": "code",
      "source": [
        "scaler.fit(train)\n"
      ],
      "metadata": {
        "colab": {
          "base_uri": "https://localhost:8080/",
          "height": 75
        },
        "id": "aenk6vQ_Eo5s",
        "outputId": "2cc2ef2d-7115-471e-a61e-a6de3bfdfa66"
      },
      "execution_count": null,
      "outputs": [
        {
          "output_type": "execute_result",
          "data": {
            "text/plain": [
              "MinMaxScaler()"
            ],
            "text/html": [
              "<style>#sk-container-id-1 {color: black;background-color: white;}#sk-container-id-1 pre{padding: 0;}#sk-container-id-1 div.sk-toggleable {background-color: white;}#sk-container-id-1 label.sk-toggleable__label {cursor: pointer;display: block;width: 100%;margin-bottom: 0;padding: 0.3em;box-sizing: border-box;text-align: center;}#sk-container-id-1 label.sk-toggleable__label-arrow:before {content: \"▸\";float: left;margin-right: 0.25em;color: #696969;}#sk-container-id-1 label.sk-toggleable__label-arrow:hover:before {color: black;}#sk-container-id-1 div.sk-estimator:hover label.sk-toggleable__label-arrow:before {color: black;}#sk-container-id-1 div.sk-toggleable__content {max-height: 0;max-width: 0;overflow: hidden;text-align: left;background-color: #f0f8ff;}#sk-container-id-1 div.sk-toggleable__content pre {margin: 0.2em;color: black;border-radius: 0.25em;background-color: #f0f8ff;}#sk-container-id-1 input.sk-toggleable__control:checked~div.sk-toggleable__content {max-height: 200px;max-width: 100%;overflow: auto;}#sk-container-id-1 input.sk-toggleable__control:checked~label.sk-toggleable__label-arrow:before {content: \"▾\";}#sk-container-id-1 div.sk-estimator input.sk-toggleable__control:checked~label.sk-toggleable__label {background-color: #d4ebff;}#sk-container-id-1 div.sk-label input.sk-toggleable__control:checked~label.sk-toggleable__label {background-color: #d4ebff;}#sk-container-id-1 input.sk-hidden--visually {border: 0;clip: rect(1px 1px 1px 1px);clip: rect(1px, 1px, 1px, 1px);height: 1px;margin: -1px;overflow: hidden;padding: 0;position: absolute;width: 1px;}#sk-container-id-1 div.sk-estimator {font-family: monospace;background-color: #f0f8ff;border: 1px dotted black;border-radius: 0.25em;box-sizing: border-box;margin-bottom: 0.5em;}#sk-container-id-1 div.sk-estimator:hover {background-color: #d4ebff;}#sk-container-id-1 div.sk-parallel-item::after {content: \"\";width: 100%;border-bottom: 1px solid gray;flex-grow: 1;}#sk-container-id-1 div.sk-label:hover label.sk-toggleable__label {background-color: #d4ebff;}#sk-container-id-1 div.sk-serial::before {content: \"\";position: absolute;border-left: 1px solid gray;box-sizing: border-box;top: 0;bottom: 0;left: 50%;z-index: 0;}#sk-container-id-1 div.sk-serial {display: flex;flex-direction: column;align-items: center;background-color: white;padding-right: 0.2em;padding-left: 0.2em;position: relative;}#sk-container-id-1 div.sk-item {position: relative;z-index: 1;}#sk-container-id-1 div.sk-parallel {display: flex;align-items: stretch;justify-content: center;background-color: white;position: relative;}#sk-container-id-1 div.sk-item::before, #sk-container-id-1 div.sk-parallel-item::before {content: \"\";position: absolute;border-left: 1px solid gray;box-sizing: border-box;top: 0;bottom: 0;left: 50%;z-index: -1;}#sk-container-id-1 div.sk-parallel-item {display: flex;flex-direction: column;z-index: 1;position: relative;background-color: white;}#sk-container-id-1 div.sk-parallel-item:first-child::after {align-self: flex-end;width: 50%;}#sk-container-id-1 div.sk-parallel-item:last-child::after {align-self: flex-start;width: 50%;}#sk-container-id-1 div.sk-parallel-item:only-child::after {width: 0;}#sk-container-id-1 div.sk-dashed-wrapped {border: 1px dashed gray;margin: 0 0.4em 0.5em 0.4em;box-sizing: border-box;padding-bottom: 0.4em;background-color: white;}#sk-container-id-1 div.sk-label label {font-family: monospace;font-weight: bold;display: inline-block;line-height: 1.2em;}#sk-container-id-1 div.sk-label-container {text-align: center;}#sk-container-id-1 div.sk-container {/* jupyter's `normalize.less` sets `[hidden] { display: none; }` but bootstrap.min.css set `[hidden] { display: none !important; }` so we also need the `!important` here to be able to override the default hidden behavior on the sphinx rendered scikit-learn.org. See: https://github.com/scikit-learn/scikit-learn/issues/21755 */display: inline-block !important;position: relative;}#sk-container-id-1 div.sk-text-repr-fallback {display: none;}</style><div id=\"sk-container-id-1\" class=\"sk-top-container\"><div class=\"sk-text-repr-fallback\"><pre>MinMaxScaler()</pre><b>In a Jupyter environment, please rerun this cell to show the HTML representation or trust the notebook. <br />On GitHub, the HTML representation is unable to render, please try loading this page with nbviewer.org.</b></div><div class=\"sk-container\" hidden><div class=\"sk-item\"><div class=\"sk-estimator sk-toggleable\"><input class=\"sk-toggleable__control sk-hidden--visually\" id=\"sk-estimator-id-1\" type=\"checkbox\" checked><label for=\"sk-estimator-id-1\" class=\"sk-toggleable__label sk-toggleable__label-arrow\">MinMaxScaler</label><div class=\"sk-toggleable__content\"><pre>MinMaxScaler()</pre></div></div></div></div></div>"
            ]
          },
          "metadata": {},
          "execution_count": 6
        }
      ]
    },
    {
      "cell_type": "code",
      "source": [
        "scaler_train = scaler.transform(train)\n",
        "scaler_test = scaler.transform(test)\n",
        "print(scaler_train)\n",
        "# print(scaler_test)"
      ],
      "metadata": {
        "colab": {
          "base_uri": "https://localhost:8080/"
        },
        "id": "jiLYDyPOHUQz",
        "outputId": "10bddb74-df98-4409-a99d-32eb211b00e6"
      },
      "execution_count": null,
      "outputs": [
        {
          "output_type": "stream",
          "name": "stdout",
          "text": [
            "[[0.07057948]\n",
            " [0.07035935]\n",
            " [0.07134994]\n",
            " [0.07140498]\n",
            " [0.08208135]\n",
            " [0.08409003]\n",
            " [0.08593363]\n",
            " [0.09405095]\n",
            " [0.09317045]\n",
            " [0.08799735]\n",
            " [0.08530076]\n",
            " [0.08615376]\n",
            " [0.0753123 ]\n",
            " [0.10241595]\n",
            " [0.09864618]\n",
            " [0.10580045]\n",
            " [0.09680259]\n",
            " [0.0813384 ]\n",
            " [0.08144844]\n",
            " [0.07544989]\n",
            " [0.06570907]\n",
            " [0.03417533]\n",
            " [0.04226515]\n",
            " [0.04848384]\n",
            " [0.04617247]\n",
            " [0.0432007 ]\n",
            " [0.02693851]\n",
            " [0.03659679]\n",
            " [0.02608551]\n",
            " [0.01750042]\n",
            " [0.01560178]\n",
            " [0.01356555]\n",
            " [0.01122669]\n",
            " [0.01375819]\n",
            " [0.00487041]\n",
            " [0.        ]\n",
            " [0.01744537]\n",
            " [0.0254251 ]\n",
            " [0.03279951]\n",
            " [0.04636507]\n",
            " [0.05305157]\n",
            " [0.05918771]\n",
            " [0.05748171]\n",
            " [0.05737162]\n",
            " [0.05349184]\n",
            " [0.05665621]\n",
            " [0.06920367]\n",
            " [0.06760771]\n",
            " [0.07198285]\n",
            " [0.07011171]\n",
            " [0.06956139]\n",
            " [0.06127898]\n",
            " [0.07291839]\n",
            " [0.0727533 ]\n",
            " [0.0677453 ]\n",
            " [0.07773376]\n",
            " [0.08098067]\n",
            " [0.08560344]\n",
            " [0.08510813]\n",
            " [0.07352376]\n",
            " [0.07688076]\n",
            " [0.08235649]\n",
            " [0.07828408]\n",
            " [0.08254912]\n",
            " [0.08780476]\n",
            " [0.08585108]\n",
            " [0.08268671]\n",
            " [0.08904299]\n",
            " [0.08059544]\n",
            " [0.09333554]\n",
            " [0.09779318]\n",
            " [0.0973254 ]\n",
            " [0.09278522]\n",
            " [0.0947664 ]\n",
            " [0.10010454]\n",
            " [0.09762809]\n",
            " [0.10935005]\n",
            " [0.096665  ]\n",
            " [0.08453031]\n",
            " [0.0551428 ]\n",
            " [0.0652138 ]\n",
            " [0.07082712]\n",
            " [0.08290681]\n",
            " [0.07619285]\n",
            " [0.07478949]\n",
            " [0.0981509 ]\n",
            " [0.08103572]\n",
            " [0.07825658]\n",
            " [0.09135436]\n",
            " [0.10194818]\n",
            " [0.10197568]\n",
            " [0.10824941]\n",
            " [0.10775413]\n",
            " [0.08073303]\n",
            " [0.09132685]\n",
            " [0.08491553]\n",
            " [0.08868526]\n",
            " [0.09826095]\n",
            " [0.09751804]\n",
            " [0.08915304]\n",
            " [0.09875627]\n",
            " [0.11001045]\n",
            " [0.10995541]\n",
            " [0.11245941]\n",
            " [0.11942105]\n",
            " [0.13837983]\n",
            " [0.13700401]\n",
            " [0.12506191]\n",
            " [0.12822628]\n",
            " [0.1304276 ]\n",
            " [0.13612351]\n",
            " [0.13114305]\n",
            " [0.12225523]\n",
            " [0.12497937]\n",
            " [0.12211764]\n",
            " [0.13133564]\n",
            " [0.12819878]\n",
            " [0.12525455]\n",
            " [0.13942547]\n",
            " [0.14113147]\n",
            " [0.12563978]\n",
            " [0.13075782]\n",
            " [0.14779042]\n",
            " [0.14792802]\n",
            " [0.14060865]\n",
            " [0.14784547]\n",
            " [0.15626547]\n",
            " [0.17310552]\n",
            " [0.17216993]\n",
            " [0.17065657]\n",
            " [0.16804248]\n",
            " [0.17054648]\n",
            " [0.17365584]\n",
            " [0.18493753]\n",
            " [0.18342416]\n",
            " [0.1922844 ]\n",
            " [0.19338508]\n",
            " [0.20163999]\n",
            " [0.20843654]\n",
            " [0.19258708]\n",
            " [0.19250453]\n",
            " [0.20763854]\n",
            " [0.22706514]\n",
            " [0.23168787]\n",
            " [0.23066977]\n",
            " [0.23097241]\n",
            " [0.23699851]\n",
            " [0.23895223]\n",
            " [0.2446206 ]\n",
            " [0.24396015]\n",
            " [0.25086678]\n",
            " [0.24583132]\n",
            " [0.25441642]\n",
            " [0.2581036 ]\n",
            " [0.25587478]\n",
            " [0.24734469]\n",
            " [0.24409778]\n",
            " [0.24346487]\n",
            " [0.25609488]\n",
            " [0.25037151]\n",
            " [0.26013979]\n",
            " [0.25851633]\n",
            " [0.25001378]\n",
            " [0.23705359]\n",
            " [0.24335478]\n",
            " [0.25392106]\n",
            " [0.26803697]\n",
            " [0.25760833]\n",
            " [0.26190088]\n",
            " [0.26820207]\n",
            " [0.2701007 ]\n",
            " [0.28025425]\n",
            " [0.29321444]\n",
            " [0.29472789]\n",
            " [0.29288426]\n",
            " [0.29365471]\n",
            " [0.2920588 ]\n",
            " [0.30460626]\n",
            " [0.30534917]\n",
            " [0.32086845]\n",
            " [0.32056572]\n",
            " [0.32529854]\n",
            " [0.33115954]\n",
            " [0.34959555]\n",
            " [0.34156073]\n",
            " [0.3480821 ]\n",
            " [0.34420236]\n",
            " [0.35741019]\n",
            " [0.37513074]\n",
            " [0.37705684]\n",
            " [0.39530021]\n",
            " [0.3835232 ]\n",
            " [0.37983602]\n",
            " [0.39056739]\n",
            " [0.40017066]\n",
            " [0.39422711]\n",
            " [0.39733648]\n",
            " [0.40154648]\n",
            " [0.39901493]\n",
            " [0.37325965]\n",
            " [0.39730893]\n",
            " [0.4156073 ]\n",
            " [0.41431403]\n",
            " [0.37480056]\n",
            " [0.37246165]\n",
            " [0.40050084]\n",
            " [0.40765512]\n",
            " [0.41800122]\n",
            " [0.40374775]\n",
            " [0.40793021]\n",
            " [0.40259203]\n",
            " [0.42347703]\n",
            " [0.41706567]\n",
            " [0.41728585]\n",
            " [0.40091357]\n",
            " [0.41362612]\n",
            " [0.40449067]\n",
            " [0.38454129]\n",
            " [0.34362446]\n",
            " [0.3158329 ]\n",
            " [0.32840791]\n",
            " [0.27576907]\n",
            " [0.2753288 ]\n",
            " [0.345358  ]\n",
            " [0.31924499]\n",
            " [0.35617192]\n",
            " [0.3291509 ]\n",
            " [0.31844699]\n",
            " [0.2555446 ]\n",
            " [0.30829344]\n",
            " [0.28102471]\n",
            " [0.20618018]\n",
            " [0.28801389]\n",
            " [0.18961535]\n",
            " [0.21892027]\n",
            " [0.20188763]\n",
            " [0.19668703]\n",
            " [0.15392661]\n",
            " [0.1405261 ]\n",
            " [0.20246549]\n",
            " [0.19872326]\n",
            " [0.23427441]\n",
            " [0.2048319 ]\n",
            " [0.22428595]\n",
            " [0.22285509]\n",
            " [0.18603821]\n",
            " [0.19709976]\n",
            " [0.18741403]\n",
            " [0.24536351]\n",
            " [0.23699851]\n",
            " [0.25526942]\n",
            " [0.26055252]\n",
            " [0.27502616]\n",
            " [0.31299872]\n",
            " [0.30578944]\n",
            " [0.31200817]\n",
            " [0.30130426]\n",
            " [0.28515216]\n",
            " [0.26159815]\n",
            " [0.28286834]\n",
            " [0.27992407]\n",
            " [0.30177208]\n",
            " [0.30232244]\n",
            " [0.28969235]\n",
            " [0.3148699 ]\n",
            " [0.33157227]\n",
            " [0.31855708]\n",
            " [0.32981127]\n",
            " [0.34191846]\n",
            " [0.350366  ]\n",
            " [0.35892356]\n",
            " [0.37650656]\n",
            " [0.38993456]\n",
            " [0.38002865]\n",
            " [0.36968247]\n",
            " [0.3748831 ]\n",
            " [0.36984756]\n",
            " [0.38979693]\n",
            " [0.38478902]\n",
            " [0.40154648]\n",
            " [0.39499757]\n",
            " [0.40061093]\n",
            " [0.39466738]\n",
            " [0.39846457]\n",
            " [0.39884984]\n",
            " [0.39799684]\n",
            " [0.40875575]\n",
            " [0.41285567]\n",
            " [0.41775358]\n",
            " [0.41004903]\n",
            " [0.43530904]\n",
            " [0.44070223]\n",
            " [0.46967696]\n",
            " [0.49402897]\n",
            " [0.44741623]\n",
            " [0.45539596]\n",
            " [0.46692533]\n",
            " [0.4919377 ]\n",
            " [0.49058943]\n",
            " [0.4909747 ]\n",
            " [0.48544388]\n",
            " [0.51062134]\n",
            " [0.5316989 ]\n",
            " [0.5138958 ]\n",
            " [0.52704862]\n",
            " [0.49620279]\n",
            " [0.51862862]\n",
            " [0.52693853]\n",
            " [0.5250399 ]\n",
            " [0.5250399 ]\n",
            " [0.5518409 ]\n",
            " [0.54864899]\n",
            " [0.57253319]\n",
            " [0.57704591]\n",
            " [0.57888946]\n",
            " [0.57401909]\n",
            " [0.59140946]\n",
            " [0.59875629]\n",
            " [0.58552092]\n",
            " [0.58337464]\n",
            " [0.60571793]\n",
            " [0.59077656]\n",
            " [0.59377583]\n",
            " [0.54504435]\n",
            " [0.54251281]\n",
            " [0.56667219]\n",
            " [0.54952954]\n",
            " [0.56920373]\n",
            " [0.58186128]\n",
            " [0.69269723]\n",
            " [0.72216725]\n",
            " [0.73017452]\n",
            " [0.73454961]\n",
            " [0.77681473]\n",
            " [0.74610652]\n",
            " [0.76388208]\n",
            " [0.72698261]\n",
            " [0.76699144]\n",
            " [0.78900454]\n",
            " [0.78787636]\n",
            " [0.78457436]\n",
            " [0.79508564]\n",
            " [0.79668155]\n",
            " [0.82494092]\n",
            " [0.89202586]\n",
            " [0.90839805]\n",
            " [0.89703377]\n",
            " [0.91571741]\n",
            " [0.89907004]\n",
            " [0.89684122]\n",
            " [0.94342634]\n",
            " [1.        ]\n",
            " [0.9694018 ]\n",
            " [0.85361294]\n",
            " [0.85449348]\n",
            " [0.76490017]\n",
            " [0.81442965]\n",
            " [0.77227454]\n",
            " [0.7558748 ]\n",
            " [0.79285682]\n",
            " [0.794838  ]\n",
            " [0.75730563]\n",
            " [0.73760389]\n",
            " [0.69908097]\n",
            " [0.73474225]\n",
            " [0.75378353]\n",
            " [0.70216287]\n",
            " [0.71427006]\n",
            " [0.75895662]\n",
            " [0.78845418]\n",
            " [0.77887845]\n",
            " [0.79780973]\n",
            " [0.80859619]\n",
            " [0.76710145]\n",
            " [0.80540428]\n",
            " [0.76864244]\n",
            " [0.789775  ]\n",
            " [0.78856427]\n",
            " [0.81057737]\n",
            " [0.89235604]\n",
            " [0.85603439]\n",
            " [0.85702502]\n",
            " [0.85174184]\n",
            " [0.83314075]\n",
            " [0.79968091]\n",
            " [0.81652092]\n",
            " [0.80947673]\n",
            " [0.79714937]\n",
            " [0.78933473]\n",
            " [0.78944482]\n",
            " [0.80650492]\n",
            " [0.74706953]\n",
            " [0.79241655]\n",
            " [0.72131424]\n",
            " [0.72032361]\n",
            " [0.73870461]\n",
            " [0.78834409]\n",
            " [0.83325084]\n",
            " [0.82950865]\n",
            " [0.8034231 ]]\n"
          ]
        }
      ]
    },
    {
      "cell_type": "code",
      "source": [
        "from tensorflow.keras.preprocessing.sequence import TimeseriesGenerator"
      ],
      "metadata": {
        "id": "6JSbn86fJF74"
      },
      "execution_count": null,
      "outputs": []
    },
    {
      "cell_type": "code",
      "source": [
        "n_input = 3\n",
        "n_feature = 1\n",
        "generator = TimeseriesGenerator(scaler_train,scaler_train,length = n_input,batch_size = 1 )"
      ],
      "metadata": {
        "id": "Mx6nIMGIHbKZ"
      },
      "execution_count": null,
      "outputs": []
    },
    {
      "cell_type": "code",
      "source": [
        "print(generator[0])"
      ],
      "metadata": {
        "colab": {
          "base_uri": "https://localhost:8080/"
        },
        "id": "I7B-L7pBJRhD",
        "outputId": "9ca56920-c2af-43fb-9f10-3d406ac60cb0"
      },
      "execution_count": null,
      "outputs": [
        {
          "output_type": "stream",
          "name": "stdout",
          "text": [
            "(array([[[0.07057948],\n",
            "        [0.07035935],\n",
            "        [0.07134994]]]), array([[0.07140498]]))\n"
          ]
        }
      ]
    },
    {
      "cell_type": "code",
      "source": [
        "X,y=generator[0]\n",
        "X=X.flatten()\n",
        "print(X)\n",
        "print(y)"
      ],
      "metadata": {
        "colab": {
          "base_uri": "https://localhost:8080/"
        },
        "id": "oTHgEUmVKi1q",
        "outputId": "a7a81ef6-2742-4fd2-ba19-804bcc446d7c"
      },
      "execution_count": null,
      "outputs": [
        {
          "output_type": "stream",
          "name": "stdout",
          "text": [
            "[0.07057948 0.07035935 0.07134994]\n",
            "[[0.07140498]]\n"
          ]
        }
      ]
    },
    {
      "cell_type": "code",
      "source": [
        "print(scaler_train[0:4])"
      ],
      "metadata": {
        "colab": {
          "base_uri": "https://localhost:8080/"
        },
        "id": "o_g6SEIAKzCs",
        "outputId": "ab99113e-896c-4d23-8e44-1428eb3a7708"
      },
      "execution_count": null,
      "outputs": [
        {
          "output_type": "stream",
          "name": "stdout",
          "text": [
            "[[0.07057948]\n",
            " [0.07035935]\n",
            " [0.07134994]\n",
            " [0.07140498]]\n"
          ]
        }
      ]
    },
    {
      "cell_type": "code",
      "source": [
        "model = Sequential()\n",
        "model.add(LSTM(30,input_shape = (n_input,n_feature)))\n",
        "model.add(Dense(1))\n",
        "model.compile(optimizer = 'adam',loss = 'mse')"
      ],
      "metadata": {
        "id": "K8nSAct-J7Z5"
      },
      "execution_count": null,
      "outputs": []
    },
    {
      "cell_type": "code",
      "source": [
        "model.summary()"
      ],
      "metadata": {
        "colab": {
          "base_uri": "https://localhost:8080/"
        },
        "id": "NgBcplwaKls3",
        "outputId": "fa54f5a4-4ef2-47ff-ca7b-10a101d70e1d"
      },
      "execution_count": null,
      "outputs": [
        {
          "output_type": "stream",
          "name": "stdout",
          "text": [
            "Model: \"sequential_1\"\n",
            "_________________________________________________________________\n",
            " Layer (type)                Output Shape              Param #   \n",
            "=================================================================\n",
            " lstm_1 (LSTM)               (None, 30)                3840      \n",
            "                                                                 \n",
            " dense_1 (Dense)             (None, 1)                 31        \n",
            "                                                                 \n",
            "=================================================================\n",
            "Total params: 3871 (15.12 KB)\n",
            "Trainable params: 3871 (15.12 KB)\n",
            "Non-trainable params: 0 (0.00 Byte)\n",
            "_________________________________________________________________\n"
          ]
        }
      ]
    },
    {
      "cell_type": "code",
      "source": [
        "model.fit_generator(generator,epochs = 5)"
      ],
      "metadata": {
        "colab": {
          "base_uri": "https://localhost:8080/"
        },
        "id": "XrN4PfiiKnLR",
        "outputId": "dd362a60-87aa-4f31-8d42-3b02edef17cf"
      },
      "execution_count": null,
      "outputs": [
        {
          "output_type": "stream",
          "name": "stdout",
          "text": [
            "Epoch 1/5\n"
          ]
        },
        {
          "output_type": "stream",
          "name": "stderr",
          "text": [
            "<ipython-input-56-b5640342f504>:1: UserWarning: `Model.fit_generator` is deprecated and will be removed in a future version. Please use `Model.fit`, which supports generators.\n",
            "  model.fit_generator(generator,epochs = 5)\n"
          ]
        },
        {
          "output_type": "stream",
          "name": "stdout",
          "text": [
            "397/397 [==============================] - 4s 4ms/step - loss: 0.0230\n",
            "Epoch 2/5\n",
            "397/397 [==============================] - 2s 4ms/step - loss: 0.0012\n",
            "Epoch 3/5\n",
            "397/397 [==============================] - 2s 5ms/step - loss: 0.0011\n",
            "Epoch 4/5\n",
            "397/397 [==============================] - 2s 4ms/step - loss: 0.0011\n",
            "Epoch 5/5\n",
            "397/397 [==============================] - 2s 4ms/step - loss: 9.4572e-04\n"
          ]
        },
        {
          "output_type": "execute_result",
          "data": {
            "text/plain": [
              "<keras.src.callbacks.History at 0x7cbda1b67610>"
            ]
          },
          "metadata": {},
          "execution_count": 56
        }
      ]
    },
    {
      "cell_type": "code",
      "source": [
        "model.history.history.keys()"
      ],
      "metadata": {
        "colab": {
          "base_uri": "https://localhost:8080/"
        },
        "id": "JEeeU-8RLhEM",
        "outputId": "1437a3a0-11a0-42aa-9093-9ce563c960b5"
      },
      "execution_count": null,
      "outputs": [
        {
          "output_type": "execute_result",
          "data": {
            "text/plain": [
              "dict_keys(['loss'])"
            ]
          },
          "metadata": {},
          "execution_count": 57
        }
      ]
    },
    {
      "cell_type": "code",
      "source": [
        "import matplotlib.pyplot as plt\n"
      ],
      "metadata": {
        "id": "-R0OKQrJMkGP"
      },
      "execution_count": null,
      "outputs": []
    },
    {
      "cell_type": "code",
      "source": [
        "loss_per_epoch = model.history.history['loss']\n",
        "plt.plot(range(len(loss_per_epoch)),loss_per_epoch)"
      ],
      "metadata": {
        "colab": {
          "base_uri": "https://localhost:8080/",
          "height": 447
        },
        "id": "1v6TYDk4MT8S",
        "outputId": "966bc77e-6bac-4ca3-b693-4b5754454dbd"
      },
      "execution_count": null,
      "outputs": [
        {
          "output_type": "execute_result",
          "data": {
            "text/plain": [
              "[<matplotlib.lines.Line2D at 0x7cbda0f777c0>]"
            ]
          },
          "metadata": {},
          "execution_count": 59
        },
        {
          "output_type": "display_data",
          "data": {
            "text/plain": [
              "<Figure size 640x480 with 1 Axes>"
            ],
            "image/png": "[encoded data removed]"
          },
          "metadata": {}
        }
      ]
    },
    {
      "cell_type": "code",
      "source": [
        "first_eval_batch = scaler_train[-3:]"
      ],
      "metadata": {
        "id": "goQ0-ldeNdRB"
      },
      "execution_count": null,
      "outputs": []
    },
    {
      "cell_type": "code",
      "source": [
        "first_eval_batch"
      ],
      "metadata": {
        "colab": {
          "base_uri": "https://localhost:8080/"
        },
        "id": "DfdJEZv5N1Lm",
        "outputId": "b60c1f9d-1511-4543-8bd3-1021539a210e"
      },
      "execution_count": null,
      "outputs": [
        {
          "output_type": "execute_result",
          "data": {
            "text/plain": [
              "array([[0.83325084],\n",
              "       [0.82950865],\n",
              "       [0.8034231 ]])"
            ]
          },
          "metadata": {},
          "execution_count": 67
        }
      ]
    },
    {
      "cell_type": "code",
      "source": [
        "first_eval_batch = first_eval_batch.reshape((1,n_input,n_feature))"
      ],
      "metadata": {
        "id": "87EYWVKGN3uI"
      },
      "execution_count": null,
      "outputs": []
    },
    {
      "cell_type": "code",
      "source": [
        "first_eval_batch"
      ],
      "metadata": {
        "colab": {
          "base_uri": "https://localhost:8080/"
        },
        "id": "fGM7A8B0ORPr",
        "outputId": "8c149b4f-b020-4c64-dcfd-ad28b287600c"
      },
      "execution_count": null,
      "outputs": [
        {
          "output_type": "execute_result",
          "data": {
            "text/plain": [
              "array([[[0.83325084],\n",
              "        [0.82950865],\n",
              "        [0.8034231 ]]])"
            ]
          },
          "metadata": {},
          "execution_count": 69
        }
      ]
    },
    {
      "cell_type": "code",
      "source": [
        "model.predict(first_eval_batch)"
      ],
      "metadata": {
        "colab": {
          "base_uri": "https://localhost:8080/"
        },
        "id": "V3U7f2zpOkJN",
        "outputId": "ec7dc2c3-84b4-420a-9063-9979f78edfc4"
      },
      "execution_count": null,
      "outputs": [
        {
          "output_type": "stream",
          "name": "stdout",
          "text": [
            "1/1 [==============================] - 0s 21ms/step\n"
          ]
        },
        {
          "output_type": "execute_result",
          "data": {
            "text/plain": [
              "array([[0.819756]], dtype=float32)"
            ]
          },
          "metadata": {},
          "execution_count": 70
        }
      ]
    },
    {
      "cell_type": "code",
      "source": [
        "scaler_test[0]"
      ],
      "metadata": {
        "colab": {
          "base_uri": "https://localhost:8080/"
        },
        "id": "AvIk_reEOnvW",
        "outputId": "086d47e7-b589-4866-9643-04d265954896"
      },
      "execution_count": null,
      "outputs": [
        {
          "output_type": "execute_result",
          "data": {
            "text/plain": [
              "array([0.79957082])"
            ]
          },
          "metadata": {},
          "execution_count": 71
        }
      ]
    },
    {
      "cell_type": "code",
      "source": [],
      "metadata": {
        "id": "q6cYUim3O4p1"
      },
      "execution_count": null,
      "outputs": []
    }
  ]
}